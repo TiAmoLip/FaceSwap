{
  "cells": [
    {
      "cell_type": "markdown",
      "metadata": {
        "id": "fC7QoKePuJWu"
      },
      "source": [
        "#Training Demo\n",
        "This is a simple example for training the SimSwap 224*224 with VGGFace2-224.\n",
        "\n",
        "Code path: https://github.com/neuralchen/SimSwap\n",
        "If you like the SimSwap project, please star it!\n",
        "Paper path: https://arxiv.org/pdf/2106.06340v1.pdf or https://dl.acm.org/doi/10.1145/3394171.3413630"
      ]
    },
    {
      "cell_type": "markdown",
      "metadata": {
        "id": "Z6BtQIgWuoqt"
      },
      "source": [
        "Installation\n",
        "All file changes made by this notebook are temporary. You can try to mount your own google drive to store files if you want."
      ]
    },
    {
      "cell_type": "markdown",
      "metadata": {
        "id": "wdQJ9d8N8Tnf"
      },
      "source": [
        "#Get Scripts"
      ]
    },
    {
      "cell_type": "markdown",
      "metadata": {
        "id": "ATLrrbso8Y-Y"
      },
      "source": [
        "# Install Blocks"
      ]
    },
    {
      "cell_type": "markdown",
      "metadata": {
        "id": "hleVtHIJ_QUK"
      },
      "source": [
        "#Download the Training Dataset\n",
        "We employ the cropped VGGFace2-224 dataset for this toy training demo.\n",
        "\n",
        "You can download the dataset from our google driver https://drive.google.com/file/d/19pWvdEHS-CEG6tW3PdxdtZ5QEymVjImc/view?usp=sharing\n",
        "\n",
        "***Please check the dataset in dir /content/TrainingData***\n",
        "\n",
        "***If dataset already exists in /content/TrainingData, please do not run blow scripts!***\n"
      ]
    },
    {
      "cell_type": "markdown",
      "metadata": {
        "id": "o5SNDWzA8LjJ"
      },
      "source": [
        "#Trainig\n",
        "Batch size must larger than 1!"
      ]
    },
    {
      "cell_type": "code",
      "execution_count": 1,
      "metadata": {
        "id": "XCxHa4oW507s"
      },
      "outputs": [],
      "source": []
    },
    {
      "cell_type": "code",
      "execution_count": 1,
      "metadata": {},
      "outputs": [
        {
          "data": {
            "text/plain": [
              "torch.Size([4, 3, 224, 224])"
            ]
          },
          "execution_count": 1,
          "metadata": {},
          "output_type": "execute_result"
        }
      ],
      "source": [
        "import numpy as np\n",
        "import torch\n",
        "from torch import nn\n",
        "from models.custom_network import DeformConvGenerator\n",
        "# from models.fs_networks_fix import ApplyStyle as AdaIn\n",
        "batch_size = 4\n",
        "\n",
        "model = DeformConvGenerator(4,4,128,3)\n",
        "t = torch.randn(batch_size,3,224,224)\n",
        "model(t,torch.randn(batch_size,128)).shape"
      ]
    },
    {
      "cell_type": "code",
      "execution_count": 33,
      "metadata": {},
      "outputs": [],
      "source": [
        "#!/usr/bin/env python3\n",
        "# -*- coding:utf-8 -*-\n",
        "#############################################################\n",
        "# File: fs_model_fix_idnorm_donggp_saveoptim copy.py\n",
        "# Created Date: Wednesday January 12th 2022\n",
        "# Author: Chen Xuanhong\n",
        "# Email: chenxuanhongzju@outlook.com\n",
        "# Last Modified:  Saturday, 13th May 2023 9:56:35 am\n",
        "# Modified By: Chen Xuanhong\n",
        "# Copyright (c) 2022 Shanghai Jiao Tong University\n",
        "#############################################################\n",
        "\n",
        "\n",
        "import torch\n",
        "import torch.nn as nn\n",
        "from torch.autograd import Variable\n",
        "from models.base_model import BaseModel\n",
        "from models.fs_networks_fix import Generator_Adain_Upsample\n",
        "from models.custom_network import DeformConvGenerator,DancerGenerator\n",
        "from pg_modules.projected_discriminator import ProjectedDiscriminator\n",
        "\n",
        "def compute_grad2(d_out, x_in):\n",
        "    batch_size = x_in.size(0)\n",
        "    grad_dout = torch.autograd.grad(\n",
        "        outputs=d_out.sum(), inputs=x_in,\n",
        "        create_graph=True, retain_graph=True, only_inputs=True\n",
        "    )[0]\n",
        "    grad_dout2 = grad_dout.pow(2)\n",
        "    assert(grad_dout2.size() == x_in.size())\n",
        "    reg = grad_dout2.view(batch_size, -1).sum(1)\n",
        "    return reg\n",
        "\n",
        "class fsModel(BaseModel):\n",
        "    def name(self):\n",
        "        return 'fsModel'\n",
        "\n",
        "    def initialize(self, opt):\n",
        "        BaseModel.initialize(self, opt)\n",
        "        # if opt.resize_or_crop != 'none' or not opt.isTrain:  # when training at full res this causes OOM\n",
        "        self.isTrain = opt.isTrain\n",
        "\n",
        "        if opt.model_name==\"simswap\":\n",
        "            model_k = Generator_Adain_Upsample\n",
        "        elif opt.model_name==\"simswap+=+\":\n",
        "            model_k = DeformConvGenerator\n",
        "        elif opt.model_name==\"dancer\":\n",
        "            model_k = DancerGenerator\n",
        "        else:\n",
        "            model_k = None\n",
        "        # Generator network\n",
        "        if opt.model_name!=\"dancer\":\n",
        "            self.netG = model_k(input_nc=3, output_nc=3, latent_size=512, n_blocks=opt.n_blocks, deep=opt.Gdeep)\n",
        "        else:\n",
        "            self.netG = model_k(input_nc=3, output_nc=3, latent_size=512, n_blocks=opt.n_blocks, n_layers=opt.n_layers, deep=opt.Gdeep,upsample_method = opt.upsample_method,kernel_type=opt.kernel_type)\n",
        "        self.netG.cuda()\n",
        "\n",
        "        # Id network\n",
        "        netArc_checkpoint = opt.Arc_path\n",
        "        netArc_checkpoint = torch.load(netArc_checkpoint, map_location=torch.device(\"cpu\"))\n",
        "        self.netArc = netArc_checkpoint\n",
        "        self.netArc = self.netArc.cuda()\n",
        "        self.netArc.eval()\n",
        "        self.netArc.requires_grad_(False)\n",
        "        if not self.isTrain:\n",
        "            pretrained_path =  opt.checkpoints_dir\n",
        "            self.load_network(self.netG, 'G', opt.which_epoch, pretrained_path)\n",
        "            return\n",
        "        self.netD = ProjectedDiscriminator(diffaug=False, interp224=False, **{})\n",
        "        # self.netD.feature_network.requires_grad_(False)\n",
        "        self.netD.cuda()\n",
        "\n",
        "\n",
        "        if self.isTrain:\n",
        "            # define loss functions\n",
        "            self.criterionFeat  = nn.L1Loss()\n",
        "            self.criterionRec   = nn.L1Loss()\n",
        "\n",
        "\n",
        "           # initialize optimizers\n",
        "\n",
        "            # optimizer G\n",
        "            params = list(self.netG.parameters())\n",
        "            self.optimizer_G = torch.optim.Adam(params, lr=opt.lr, betas=(opt.beta1, 0.99),eps=1e-8)\n",
        "\n",
        "            # optimizer D\n",
        "            params = list(self.netD.parameters())\n",
        "            self.optimizer_D = torch.optim.Adam(params, lr=opt.lr, betas=(opt.beta1, 0.99),eps=1e-8)\n",
        "\n",
        "        # load networks\n",
        "        if opt.continue_train:\n",
        "            pretrained_path = '' if not self.isTrain else opt.load_pretrain\n",
        "            # print (pretrained_path)\n",
        "            self.load_network(self.netG, 'G', opt.which_epoch, pretrained_path)\n",
        "            self.load_network(self.netD, 'D', opt.which_epoch, pretrained_path)\n",
        "            self.load_optim(self.optimizer_G, 'G', opt.which_epoch, pretrained_path)\n",
        "            self.load_optim(self.optimizer_D, 'D', opt.which_epoch, pretrained_path)\n",
        "        torch.cuda.empty_cache()\n",
        "\n",
        "    def cosin_metric(self, x1, x2):\n",
        "        #return np.dot(x1, x2) / (np.linalg.norm(x1) * np.linalg.norm(x2))\n",
        "        return torch.sum(x1 * x2, dim=1) / (torch.norm(x1, dim=1) * torch.norm(x2, dim=1))\n",
        "\n",
        "\n",
        "\n",
        "    def save(self, which_epoch, overlap = False):\n",
        "        self.save_network(self.netG, 'G', which_epoch if not overlap else 0)\n",
        "        self.save_network(self.netD, 'D', which_epoch if not overlap else 0)\n",
        "        self.save_optim(self.optimizer_G, 'G', which_epoch if not overlap else 0)\n",
        "        self.save_optim(self.optimizer_D, 'D', which_epoch if not overlap else 0)\n",
        "        '''if self.gen_features:\n",
        "            self.save_network(self.netE, 'E', which_epoch, self.gpu_ids)'''\n",
        "\n",
        "    def update_fixed_params(self):\n",
        "        # after fixing the global generator for a number of iterations, also start finetuning it\n",
        "        params = list(self.netG.parameters())\n",
        "        if self.gen_features:\n",
        "            params += list(self.netE.parameters())\n",
        "        self.optimizer_G = torch.optim.Adam(params, lr=self.opt.lr, betas=(self.opt.beta1, 0.999))\n",
        "        if self.opt.verbose:\n",
        "            print('------------ Now also finetuning global generator -----------')\n",
        "\n",
        "    def update_learning_rate(self):\n",
        "        lrd = self.opt.lr / self.opt.niter_decay\n",
        "        lr = self.old_lr - lrd\n",
        "        for param_group in self.optimizer_D.param_groups:\n",
        "            param_group['lr'] = lr\n",
        "        for param_group in self.optimizer_G.param_groups:\n",
        "            param_group['lr'] = lr\n",
        "        if self.opt.verbose:\n",
        "            print('update learning rate: %f -> %f' % (self.old_lr, lr))\n",
        "        self.old_lr = lr\n",
        "    \n",
        "    def gradinet_penalty_D(self, netD, img_att, img_fake):\n",
        "        # interpolate sample\n",
        "        bs = img_fake.shape[0]\n",
        "        alpha = torch.rand(bs, 1, 1, 1).expand_as(img_fake)\n",
        "        interpolated = Variable(alpha * img_att + (1 - alpha) * img_fake, requires_grad=True)\n",
        "        pred_interpolated = netD.forward(interpolated,None)\n",
        "        # print(pred_interpolated[1])\n",
        "        pred_interpolated = pred_interpolated[0]\n",
        "\n",
        "        # compute gradients\n",
        "        grad = torch.autograd.grad(outputs=pred_interpolated,\n",
        "                                   inputs=interpolated,\n",
        "                                   grad_outputs=torch.ones(pred_interpolated.size()),\n",
        "                                   retain_graph=True,\n",
        "                                   create_graph=True,\n",
        "                                   only_inputs=True)[0]\n",
        "\n",
        "        # penalize gradients\n",
        "        grad = grad.view(grad.size(0), -1)\n",
        "        grad_l2norm = torch.sqrt(torch.sum(grad ** 2, dim=1))\n",
        "        loss_d_gp = torch.mean((grad_l2norm - 1) ** 2)\n",
        "\n",
        "        return loss_d_gp\n",
        "\n",
        "m = fsModel()"
      ]
    },
    {
      "cell_type": "code",
      "execution_count": 34,
      "metadata": {},
      "outputs": [
        {
          "data": {
            "text/plain": [
              "tensor(1035895.5000, grad_fn=<MeanBackward0>)"
            ]
          },
          "execution_count": 34,
          "metadata": {},
          "output_type": "execute_result"
        }
      ],
      "source": [
        "t = ProjectedDiscriminator(diffaug=False, interp224=False, **{})\n",
        "# t.discriminator(torch.rand(4,3,224,224),).shape\n",
        "m.gradinet_penalty_D(t, torch.rand(4,3,224,224), torch.rand(4,3,224,224))\n",
        "# t.feature_network(torch.rand(4,3,224,224))"
      ]
    },
    {
      "cell_type": "code",
      "execution_count": 2,
      "metadata": {},
      "outputs": [],
      "source": [
        "class DancerGenerator(nn.Module):\n",
        "    def __init__(self, input_nc=3, output_nc=3, latent_size=512, n_blocks=6, deep=False,norm_layer=nn.BatchNorm2d,padding_type='reflect') -> None:\n",
        "        assert (n_blocks >= 0)\n",
        "        super(DancerGenerator, self).__init__()\n",
        "        self.deep = deep\n",
        "        \n",
        "        self.first_layer = nn.Sequential(nn.ReflectionPad2d(3), DeformConv(input_nc, 64, kernel_size=7, padding=0),\n",
        "                                         norm_layer(64), nn.ReLU(True))\n",
        "    \n",
        "        self.down1 = DeformConvDownSample(latent_size, 64, 128, kernel_size=3, stride=2, padding=1)\n",
        "        self.down2 = DeformConvDownSample(latent_size, 128, 256, kernel_size=3, stride=2, padding=1)\n",
        "        self.down3 = DeformConvDownSample(latent_size, 256, 512, kernel_size=3, stride=2, padding=1)\n",
        "\n",
        "        if self.deep:\n",
        "            self.down4 = DeformConvDownSample(latent_size, 512, 512, kernel_size=3, stride=2, padding=1)\n",
        "        BN = []\n",
        "        activation = nn.LeakyReLU(0.2,True)\n",
        "        for i in range(n_blocks):\n",
        "            BN += [\n",
        "                ResnetBlock_Adain(512, latent_size=latent_size, padding_type=padding_type, activation=activation)]\n",
        "        self.BottleNeck = nn.Sequential(*BN)\n",
        "        \n",
        "        self.transition = nn.Conv2d(512, 512, kernel_size=3, stride=1, padding=1)\n",
        "        \n",
        "        if self.deep:\n",
        "            self.affa4 = AFFA_RB(512, 512, 512, sample_method=\"up\")\n",
        "        \n",
        "        self.affa3 = AFFA_RB(latent_size = 512,in_channels = 512,out_channels= 256, sample_method=\"up\")\n",
        "        self.affa2 = AFFA_RB(latent_size= 512,in_channels= 256,out_channels= 128, sample_method=\"up\")\n",
        "        self.affa1 = AFFA_RB(latent_size = 512,in_channels= 128,out_channels= 64, sample_method=\"up\")\n",
        "        \n",
        "        self.last_layer = nn.Sequential(nn.ReflectionPad2d(3), DeformConv(64, output_nc, kernel_size=7, padding=0))\n",
        "    def forward(self, x, latent):\n",
        "        # x: (batch_size, 3, 224, 224)\n",
        "        skip = self.first_layer(x)# (batch_size, 64, 224, 224)\n",
        "        \n",
        "        skip1 = self.down1(skip,latent) # (batch_size, 128, 112, 112)\n",
        "        skip2 = self.down2(skip1,latent) # (batch_size, 256, 56, 56)\n",
        "        skip3 = self.down3(skip2,latent) # (batch_size, 512, 28, 28)\n",
        "        skip4 = None\n",
        "        if self.deep:\n",
        "            skip4 = self.down4(skip3,latent) # (batch_size, 512, 14, 14)\n",
        "            x = skip4\n",
        "        else:\n",
        "            x = skip3\n",
        "\n",
        "        for i in range(len(self.BottleNeck)):\n",
        "            x = self.BottleNeck[i](x, latent)\n",
        "        \n",
        "        trans = self.transition(x) # (batch_size, 512, 14, 14) if self.deep else (batch_size, 512, 28, 28)\n",
        "        \n",
        "        if self.deep:\n",
        "            x = self.affa4(trans,skip4,latent) # (batch_size, 512, 28, 28)\n",
        "        x = self.affa3(x,skip3,latent)# (batch_size, 256, 56, 56)\n",
        "        x = self.affa2(x,skip2,latent) # (batch_size, 128, 112, 112)\n",
        "        x = self.affa1(x,skip1,latent) # (batch_size, 64, 224, 224)\n",
        "        x = self.last_layer(x) # (batch_size, 3, 224, 224)\n",
        "        return x\n"
      ]
    },
    {
      "cell_type": "code",
      "execution_count": 3,
      "metadata": {},
      "outputs": [
        {
          "data": {
            "text/plain": [
              "torch.Size([4, 256, 56, 56])"
            ]
          },
          "execution_count": 3,
          "metadata": {},
          "output_type": "execute_result"
        }
      ],
      "source": [
        "\n",
        "k = AFFA_RB(latent_size = 512,in_channels = 512,out_channels= 256, sample_method=\"up\")\n",
        "k.forward(torch.randn(4,512,28,28),torch.randn(4,512,28,28),torch.randn(4,512)).shape"
      ]
    },
    {
      "cell_type": "code",
      "execution_count": 5,
      "metadata": {},
      "outputs": [
        {
          "name": "stdout",
          "output_type": "stream",
          "text": [
            "torch.Size([4, 256, 56, 56]) torch.Size([4, 256, 56, 56]) torch.Size([4, 512])\n"
          ]
        },
        {
          "ename": "KeyboardInterrupt",
          "evalue": "",
          "output_type": "error",
          "traceback": [
            "\u001b[1;31m---------------------------------------------------------------------------\u001b[0m",
            "\u001b[1;31mKeyboardInterrupt\u001b[0m                         Traceback (most recent call last)",
            "\u001b[1;32m~\\AppData\\Local\\Temp\\ipykernel_7940\\2539302451.py\u001b[0m in \u001b[0;36m<module>\u001b[1;34m\u001b[0m\n\u001b[0;32m      2\u001b[0m \u001b[0mx\u001b[0m \u001b[1;33m=\u001b[0m \u001b[0mtorch\u001b[0m\u001b[1;33m.\u001b[0m\u001b[0mrandn\u001b[0m\u001b[1;33m(\u001b[0m\u001b[0mbatch_size\u001b[0m\u001b[1;33m,\u001b[0m\u001b[1;36m3\u001b[0m\u001b[1;33m,\u001b[0m\u001b[1;36m224\u001b[0m\u001b[1;33m,\u001b[0m\u001b[1;36m224\u001b[0m\u001b[1;33m)\u001b[0m\u001b[1;33m\u001b[0m\u001b[1;33m\u001b[0m\u001b[0m\n\u001b[0;32m      3\u001b[0m \u001b[0mlatent\u001b[0m \u001b[1;33m=\u001b[0m \u001b[0mtorch\u001b[0m\u001b[1;33m.\u001b[0m\u001b[0mrandn\u001b[0m\u001b[1;33m(\u001b[0m\u001b[0mbatch_size\u001b[0m\u001b[1;33m,\u001b[0m\u001b[1;36m512\u001b[0m\u001b[1;33m)\u001b[0m\u001b[1;33m\u001b[0m\u001b[1;33m\u001b[0m\u001b[0m\n\u001b[1;32m----> 4\u001b[1;33m \u001b[0mmodel\u001b[0m\u001b[1;33m.\u001b[0m\u001b[0mforward\u001b[0m\u001b[1;33m(\u001b[0m\u001b[0mx\u001b[0m\u001b[1;33m,\u001b[0m\u001b[0mlatent\u001b[0m\u001b[1;33m)\u001b[0m\u001b[1;33m.\u001b[0m\u001b[0mshape\u001b[0m\u001b[1;33m\u001b[0m\u001b[1;33m\u001b[0m\u001b[0m\n\u001b[0m",
            "\u001b[1;32m~\\AppData\\Local\\Temp\\ipykernel_7940\\84491171.py\u001b[0m in \u001b[0;36mforward\u001b[1;34m(self, x, latent)\u001b[0m\n\u001b[0;32m     57\u001b[0m         \u001b[0mx\u001b[0m \u001b[1;33m=\u001b[0m \u001b[0mself\u001b[0m\u001b[1;33m.\u001b[0m\u001b[0maffa2\u001b[0m\u001b[1;33m(\u001b[0m\u001b[0mx\u001b[0m\u001b[1;33m,\u001b[0m\u001b[0mskip2\u001b[0m\u001b[1;33m,\u001b[0m\u001b[0mlatent\u001b[0m\u001b[1;33m)\u001b[0m \u001b[1;31m# (batch_size, 128, 112, 112)\u001b[0m\u001b[1;33m\u001b[0m\u001b[1;33m\u001b[0m\u001b[0m\n\u001b[0;32m     58\u001b[0m         \u001b[0mx\u001b[0m \u001b[1;33m=\u001b[0m \u001b[0mself\u001b[0m\u001b[1;33m.\u001b[0m\u001b[0maffa1\u001b[0m\u001b[1;33m(\u001b[0m\u001b[0mx\u001b[0m\u001b[1;33m,\u001b[0m\u001b[0mskip1\u001b[0m\u001b[1;33m,\u001b[0m\u001b[0mlatent\u001b[0m\u001b[1;33m)\u001b[0m \u001b[1;31m# (batch_size, 64, 224, 224)\u001b[0m\u001b[1;33m\u001b[0m\u001b[1;33m\u001b[0m\u001b[0m\n\u001b[1;32m---> 59\u001b[1;33m         \u001b[0mx\u001b[0m \u001b[1;33m=\u001b[0m \u001b[0mself\u001b[0m\u001b[1;33m.\u001b[0m\u001b[0mlast_layer\u001b[0m\u001b[1;33m(\u001b[0m\u001b[0mx\u001b[0m\u001b[1;33m)\u001b[0m \u001b[1;31m# (batch_size, 3, 224, 224)\u001b[0m\u001b[1;33m\u001b[0m\u001b[1;33m\u001b[0m\u001b[0m\n\u001b[0m\u001b[0;32m     60\u001b[0m         \u001b[1;32mreturn\u001b[0m \u001b[0mx\u001b[0m\u001b[1;33m\u001b[0m\u001b[1;33m\u001b[0m\u001b[0m\n",
            "\u001b[1;32mD:\\Anaconda\\Lib\\site-packages\\torch\\nn\\modules\\module.py\u001b[0m in \u001b[0;36m_call_impl\u001b[1;34m(self, *args, **kwargs)\u001b[0m\n\u001b[0;32m   1499\u001b[0m                 \u001b[1;32mor\u001b[0m \u001b[0m_global_backward_pre_hooks\u001b[0m \u001b[1;32mor\u001b[0m \u001b[0m_global_backward_hooks\u001b[0m\u001b[1;33m\u001b[0m\u001b[1;33m\u001b[0m\u001b[0m\n\u001b[0;32m   1500\u001b[0m                 or _global_forward_hooks or _global_forward_pre_hooks):\n\u001b[1;32m-> 1501\u001b[1;33m             \u001b[1;32mreturn\u001b[0m \u001b[0mforward_call\u001b[0m\u001b[1;33m(\u001b[0m\u001b[1;33m*\u001b[0m\u001b[0margs\u001b[0m\u001b[1;33m,\u001b[0m \u001b[1;33m**\u001b[0m\u001b[0mkwargs\u001b[0m\u001b[1;33m)\u001b[0m\u001b[1;33m\u001b[0m\u001b[1;33m\u001b[0m\u001b[0m\n\u001b[0m\u001b[0;32m   1502\u001b[0m         \u001b[1;31m# Do not call functions when jit is used\u001b[0m\u001b[1;33m\u001b[0m\u001b[1;33m\u001b[0m\u001b[0m\n\u001b[0;32m   1503\u001b[0m         \u001b[0mfull_backward_hooks\u001b[0m\u001b[1;33m,\u001b[0m \u001b[0mnon_full_backward_hooks\u001b[0m \u001b[1;33m=\u001b[0m \u001b[1;33m[\u001b[0m\u001b[1;33m]\u001b[0m\u001b[1;33m,\u001b[0m \u001b[1;33m[\u001b[0m\u001b[1;33m]\u001b[0m\u001b[1;33m\u001b[0m\u001b[1;33m\u001b[0m\u001b[0m\n",
            "\u001b[1;32mD:\\Anaconda\\Lib\\site-packages\\torch\\nn\\modules\\container.py\u001b[0m in \u001b[0;36mforward\u001b[1;34m(self, input)\u001b[0m\n\u001b[0;32m    215\u001b[0m     \u001b[1;32mdef\u001b[0m \u001b[0mforward\u001b[0m\u001b[1;33m(\u001b[0m\u001b[0mself\u001b[0m\u001b[1;33m,\u001b[0m \u001b[0minput\u001b[0m\u001b[1;33m)\u001b[0m\u001b[1;33m:\u001b[0m\u001b[1;33m\u001b[0m\u001b[1;33m\u001b[0m\u001b[0m\n\u001b[0;32m    216\u001b[0m         \u001b[1;32mfor\u001b[0m \u001b[0mmodule\u001b[0m \u001b[1;32min\u001b[0m \u001b[0mself\u001b[0m\u001b[1;33m:\u001b[0m\u001b[1;33m\u001b[0m\u001b[1;33m\u001b[0m\u001b[0m\n\u001b[1;32m--> 217\u001b[1;33m             \u001b[0minput\u001b[0m \u001b[1;33m=\u001b[0m \u001b[0mmodule\u001b[0m\u001b[1;33m(\u001b[0m\u001b[0minput\u001b[0m\u001b[1;33m)\u001b[0m\u001b[1;33m\u001b[0m\u001b[1;33m\u001b[0m\u001b[0m\n\u001b[0m\u001b[0;32m    218\u001b[0m         \u001b[1;32mreturn\u001b[0m \u001b[0minput\u001b[0m\u001b[1;33m\u001b[0m\u001b[1;33m\u001b[0m\u001b[0m\n\u001b[0;32m    219\u001b[0m \u001b[1;33m\u001b[0m\u001b[0m\n",
            "\u001b[1;32mD:\\Anaconda\\Lib\\site-packages\\torch\\nn\\modules\\module.py\u001b[0m in \u001b[0;36m_call_impl\u001b[1;34m(self, *args, **kwargs)\u001b[0m\n\u001b[0;32m   1499\u001b[0m                 \u001b[1;32mor\u001b[0m \u001b[0m_global_backward_pre_hooks\u001b[0m \u001b[1;32mor\u001b[0m \u001b[0m_global_backward_hooks\u001b[0m\u001b[1;33m\u001b[0m\u001b[1;33m\u001b[0m\u001b[0m\n\u001b[0;32m   1500\u001b[0m                 or _global_forward_hooks or _global_forward_pre_hooks):\n\u001b[1;32m-> 1501\u001b[1;33m             \u001b[1;32mreturn\u001b[0m \u001b[0mforward_call\u001b[0m\u001b[1;33m(\u001b[0m\u001b[1;33m*\u001b[0m\u001b[0margs\u001b[0m\u001b[1;33m,\u001b[0m \u001b[1;33m**\u001b[0m\u001b[0mkwargs\u001b[0m\u001b[1;33m)\u001b[0m\u001b[1;33m\u001b[0m\u001b[1;33m\u001b[0m\u001b[0m\n\u001b[0m\u001b[0;32m   1502\u001b[0m         \u001b[1;31m# Do not call functions when jit is used\u001b[0m\u001b[1;33m\u001b[0m\u001b[1;33m\u001b[0m\u001b[0m\n\u001b[0;32m   1503\u001b[0m         \u001b[0mfull_backward_hooks\u001b[0m\u001b[1;33m,\u001b[0m \u001b[0mnon_full_backward_hooks\u001b[0m \u001b[1;33m=\u001b[0m \u001b[1;33m[\u001b[0m\u001b[1;33m]\u001b[0m\u001b[1;33m,\u001b[0m \u001b[1;33m[\u001b[0m\u001b[1;33m]\u001b[0m\u001b[1;33m\u001b[0m\u001b[1;33m\u001b[0m\u001b[0m\n",
            "\u001b[1;32mf:\\ai_practice\\FaceSwap\\models\\custom_network.py\u001b[0m in \u001b[0;36mforward\u001b[1;34m(self, input)\u001b[0m\n\u001b[0;32m     24\u001b[0m     \u001b[1;32mdef\u001b[0m \u001b[0mforward\u001b[0m\u001b[1;33m(\u001b[0m\u001b[0mself\u001b[0m\u001b[1;33m,\u001b[0m \u001b[0minput\u001b[0m\u001b[1;33m)\u001b[0m\u001b[1;33m:\u001b[0m\u001b[1;33m\u001b[0m\u001b[1;33m\u001b[0m\u001b[0m\n\u001b[0;32m     25\u001b[0m         \u001b[0moffsets\u001b[0m \u001b[1;33m=\u001b[0m \u001b[0mself\u001b[0m\u001b[1;33m.\u001b[0m\u001b[0mconv_offset\u001b[0m\u001b[1;33m(\u001b[0m\u001b[0minput\u001b[0m\u001b[1;33m)\u001b[0m\u001b[1;33m\u001b[0m\u001b[1;33m\u001b[0m\u001b[0m\n\u001b[1;32m---> 26\u001b[1;33m         \u001b[1;32mreturn\u001b[0m \u001b[0mself\u001b[0m\u001b[1;33m.\u001b[0m\u001b[0mdeform_conv\u001b[0m\u001b[1;33m(\u001b[0m\u001b[0minput\u001b[0m\u001b[1;33m,\u001b[0m \u001b[0moffsets\u001b[0m\u001b[1;33m)\u001b[0m\u001b[1;33m\u001b[0m\u001b[1;33m\u001b[0m\u001b[0m\n\u001b[0m\u001b[0;32m     27\u001b[0m \u001b[1;32mclass\u001b[0m \u001b[0mIdDeformConv\u001b[0m\u001b[1;33m(\u001b[0m\u001b[0mnn\u001b[0m\u001b[1;33m.\u001b[0m\u001b[0mModule\u001b[0m\u001b[1;33m)\u001b[0m\u001b[1;33m:\u001b[0m\u001b[1;33m\u001b[0m\u001b[1;33m\u001b[0m\u001b[0m\n\u001b[0;32m     28\u001b[0m     \u001b[1;32mdef\u001b[0m \u001b[0m__init__\u001b[0m\u001b[1;33m(\u001b[0m\u001b[0mself\u001b[0m\u001b[1;33m,\u001b[0m \u001b[0mlatent_size\u001b[0m\u001b[1;33m,\u001b[0m \u001b[0minput_channels\u001b[0m\u001b[1;33m,\u001b[0m \u001b[0moutput_channels\u001b[0m\u001b[1;33m,\u001b[0m \u001b[0mkernel_size\u001b[0m\u001b[1;33m,\u001b[0m \u001b[0mstride\u001b[0m\u001b[1;33m=\u001b[0m\u001b[1;36m1\u001b[0m\u001b[1;33m,\u001b[0m \u001b[0mpadding\u001b[0m\u001b[1;33m=\u001b[0m\u001b[1;36m0\u001b[0m\u001b[1;33m,\u001b[0m \u001b[0mbias\u001b[0m\u001b[1;33m=\u001b[0m\u001b[1;32mFalse\u001b[0m\u001b[1;33m)\u001b[0m \u001b[1;33m->\u001b[0m \u001b[1;32mNone\u001b[0m\u001b[1;33m:\u001b[0m\u001b[1;33m\u001b[0m\u001b[1;33m\u001b[0m\u001b[0m\n",
            "\u001b[1;32mD:\\Anaconda\\Lib\\site-packages\\torch\\nn\\modules\\module.py\u001b[0m in \u001b[0;36m_call_impl\u001b[1;34m(self, *args, **kwargs)\u001b[0m\n\u001b[0;32m   1499\u001b[0m                 \u001b[1;32mor\u001b[0m \u001b[0m_global_backward_pre_hooks\u001b[0m \u001b[1;32mor\u001b[0m \u001b[0m_global_backward_hooks\u001b[0m\u001b[1;33m\u001b[0m\u001b[1;33m\u001b[0m\u001b[0m\n\u001b[0;32m   1500\u001b[0m                 or _global_forward_hooks or _global_forward_pre_hooks):\n\u001b[1;32m-> 1501\u001b[1;33m             \u001b[1;32mreturn\u001b[0m \u001b[0mforward_call\u001b[0m\u001b[1;33m(\u001b[0m\u001b[1;33m*\u001b[0m\u001b[0margs\u001b[0m\u001b[1;33m,\u001b[0m \u001b[1;33m**\u001b[0m\u001b[0mkwargs\u001b[0m\u001b[1;33m)\u001b[0m\u001b[1;33m\u001b[0m\u001b[1;33m\u001b[0m\u001b[0m\n\u001b[0m\u001b[0;32m   1502\u001b[0m         \u001b[1;31m# Do not call functions when jit is used\u001b[0m\u001b[1;33m\u001b[0m\u001b[1;33m\u001b[0m\u001b[0m\n\u001b[0;32m   1503\u001b[0m         \u001b[0mfull_backward_hooks\u001b[0m\u001b[1;33m,\u001b[0m \u001b[0mnon_full_backward_hooks\u001b[0m \u001b[1;33m=\u001b[0m \u001b[1;33m[\u001b[0m\u001b[1;33m]\u001b[0m\u001b[1;33m,\u001b[0m \u001b[1;33m[\u001b[0m\u001b[1;33m]\u001b[0m\u001b[1;33m\u001b[0m\u001b[1;33m\u001b[0m\u001b[0m\n",
            "\u001b[1;32mD:\\Anaconda\\Lib\\site-packages\\torchvision\\ops\\deform_conv.py\u001b[0m in \u001b[0;36mforward\u001b[1;34m(self, input, offset, mask)\u001b[0m\n\u001b[0;32m    168\u001b[0m                 \u001b[0mmasks\u001b[0m \u001b[0mto\u001b[0m \u001b[0mbe\u001b[0m \u001b[0mapplied\u001b[0m \u001b[1;32mfor\u001b[0m \u001b[0meach\u001b[0m \u001b[0mposition\u001b[0m \u001b[1;32min\u001b[0m \u001b[0mthe\u001b[0m \u001b[0mconvolution\u001b[0m \u001b[0mkernel\u001b[0m\u001b[1;33m.\u001b[0m\u001b[1;33m\u001b[0m\u001b[1;33m\u001b[0m\u001b[0m\n\u001b[0;32m    169\u001b[0m         \"\"\"\n\u001b[1;32m--> 170\u001b[1;33m         return deform_conv2d(\n\u001b[0m\u001b[0;32m    171\u001b[0m             \u001b[0minput\u001b[0m\u001b[1;33m,\u001b[0m\u001b[1;33m\u001b[0m\u001b[1;33m\u001b[0m\u001b[0m\n\u001b[0;32m    172\u001b[0m             \u001b[0moffset\u001b[0m\u001b[1;33m,\u001b[0m\u001b[1;33m\u001b[0m\u001b[1;33m\u001b[0m\u001b[0m\n",
            "\u001b[1;32mD:\\Anaconda\\Lib\\site-packages\\torchvision\\ops\\deform_conv.py\u001b[0m in \u001b[0;36mdeform_conv2d\u001b[1;34m(input, offset, weight, bias, stride, padding, dilation, mask)\u001b[0m\n\u001b[0;32m     90\u001b[0m         )\n\u001b[0;32m     91\u001b[0m \u001b[1;33m\u001b[0m\u001b[0m\n\u001b[1;32m---> 92\u001b[1;33m     return torch.ops.torchvision.deform_conv2d(\n\u001b[0m\u001b[0;32m     93\u001b[0m         \u001b[0minput\u001b[0m\u001b[1;33m,\u001b[0m\u001b[1;33m\u001b[0m\u001b[1;33m\u001b[0m\u001b[0m\n\u001b[0;32m     94\u001b[0m         \u001b[0mweight\u001b[0m\u001b[1;33m,\u001b[0m\u001b[1;33m\u001b[0m\u001b[1;33m\u001b[0m\u001b[0m\n",
            "\u001b[1;32mD:\\Anaconda\\Lib\\site-packages\\torch\\_ops.py\u001b[0m in \u001b[0;36m__call__\u001b[1;34m(self, *args, **kwargs)\u001b[0m\n\u001b[0;32m    500\u001b[0m         \u001b[1;31m# We save the function ptr as the `op` attribute on\u001b[0m\u001b[1;33m\u001b[0m\u001b[1;33m\u001b[0m\u001b[0m\n\u001b[0;32m    501\u001b[0m         \u001b[1;31m# OpOverloadPacket to access it here.\u001b[0m\u001b[1;33m\u001b[0m\u001b[1;33m\u001b[0m\u001b[0m\n\u001b[1;32m--> 502\u001b[1;33m         \u001b[1;32mreturn\u001b[0m \u001b[0mself\u001b[0m\u001b[1;33m.\u001b[0m\u001b[0m_op\u001b[0m\u001b[1;33m(\u001b[0m\u001b[1;33m*\u001b[0m\u001b[0margs\u001b[0m\u001b[1;33m,\u001b[0m \u001b[1;33m**\u001b[0m\u001b[0mkwargs\u001b[0m \u001b[1;32mor\u001b[0m \u001b[1;33m{\u001b[0m\u001b[1;33m}\u001b[0m\u001b[1;33m)\u001b[0m\u001b[1;33m\u001b[0m\u001b[1;33m\u001b[0m\u001b[0m\n\u001b[0m\u001b[0;32m    503\u001b[0m \u001b[1;33m\u001b[0m\u001b[0m\n\u001b[0;32m    504\u001b[0m     \u001b[1;31m# TODO: use this to make a __dir__\u001b[0m\u001b[1;33m\u001b[0m\u001b[1;33m\u001b[0m\u001b[0m\n",
            "\u001b[1;31mKeyboardInterrupt\u001b[0m: "
          ]
        }
      ],
      "source": [
        "model = DancerGenerator(input_nc=3,output_nc=3,latent_size=512,n_blocks=6,deep=True)\n",
        "x = torch.randn(batch_size,3,224,224)\n",
        "latent = torch.randn(batch_size,512)\n",
        "model.forward(x,latent).shape\n"
      ]
    },
    {
      "cell_type": "code",
      "execution_count": null,
      "metadata": {},
      "outputs": [],
      "source": [
        "class IdDeformConv(nn.Module):\n",
        "    def __init__(self, latent_size, input_channels, output_channels, kernel_size, stride=1, padding=0, bias=False) -> None:\n",
        "        super(IdDeformConv,self).__init__()\n",
        "        # self.latent_size = latent_size\n",
        "        self.dconv = DeformConv(input_channels, output_channels, kernel_size, stride, padding, bias)\n",
        "        self.latent_injection = nn.Linear(latent_size, output_channels)\n",
        "        # self.res = \n",
        "    def forward(self, input, latent):\n",
        "        latent = self.latent_injection(latent)\n",
        "        return self.dconv(input) + latent.view(latent.size(0), latent.size(1), 1, 1)\n",
        "    \n",
        "\n",
        "class DeformConvDownSample(nn.Module):\n",
        "    def __init__(self, latent_size, in_channels, out_channels, kernel_size, stride=1, padding=0, bias=False):\n",
        "        super(DeformConvDownSample, self).__init__()\n",
        "        self.dconv = IdDeformConv(latent_size,in_channels, out_channels, kernel_size, stride, padding, bias)\n",
        "        self.conv = nn.Conv2d(out_channels, out_channels, kernel_size=1, stride=1, padding=0, bias=False)\n",
        "        self.norm = nn.BatchNorm2d(out_channels)\n",
        "        self.relu = nn.LeakyReLU(0.2,inplace=False)\n",
        "\n",
        "    def forward(self, x, latent_id):\n",
        "        x = self.dconv(x, latent_id)\n",
        "        x = self.conv(x)\n",
        "        x = self.norm(x)\n",
        "        x = self.relu(x)\n",
        "        return x\n",
        "class DeformConvUpSample(nn.Module):\n",
        "    def __init__(self, scaleFactor,latent_size, in_channels, out_channels, kernel_size, stride=1, padding=0, bias=False,*args, **kwargs) -> None:\n",
        "        super().__init__(*args, **kwargs)\n",
        "        self.upsample = nn.Upsample(scale_factor=scaleFactor, mode='bilinear',align_corners=False)\n",
        "        self.IdDeformConv = IdDeformConv(latent_size,in_channels, out_channels, kernel_size, stride, padding, bias)\n",
        "        self.conv = nn.Conv2d(out_channels, out_channels, kernel_size=1, stride=1, padding=0, bias=False)\n",
        "        self.norm = nn.BatchNorm2d(out_channels)\n",
        "        self.rl = nn.LeakyReLU(0.2,inplace=False)\n",
        "    def forward(self, x, latent_id):\n",
        "        x = self.upsample(x)\n",
        "        x = self.IdDeformConv(x, latent_id)\n",
        "        x = self.conv(x)\n",
        "        x = self.norm(x)\n",
        "        x = self.rl(x)\n",
        "        return x\n",
        "class IDBlocks(nn.Module):\n",
        "    def __init__(self, *args, **kwargs) -> None:\n",
        "        super().__init__(*args, **kwargs)"
      ]
    },
    {
      "cell_type": "code",
      "execution_count": null,
      "metadata": {},
      "outputs": [],
      "source": [
        "\n",
        "class Generator_Adain_Upsample(nn.Module):\n",
        "    def __init__(self, input_nc, output_nc, latent_size, n_blocks=6, deep=False,\n",
        "                 norm_layer=nn.BatchNorm2d,\n",
        "                 padding_type='reflect'):\n",
        "        assert (n_blocks >= 0)\n",
        "        super(Generator_Adain_Upsample, self).__init__()\n",
        "\n",
        "        activation = nn.ReLU(True)\n",
        "        \n",
        "        self.deep = deep\n",
        "        \n",
        "        self.first_layer = nn.Sequential(nn.ReflectionPad2d(3), DeformConv(input_nc, 64, kernel_size=7, padding=0),\n",
        "                                         norm_layer(64), activation)\n",
        "        ### downsample\n",
        "        self.down1 = nn.Sequential(DeformConv(64, 128, kernel_size=3, stride=2, padding=1),\n",
        "                                   norm_layer(128), activation)\n",
        "        self.down2 = nn.Sequential(DeformConv(128, 256, kernel_size=3, stride=2, padding=1),\n",
        "                                   norm_layer(256), activation)\n",
        "        self.down3 = nn.Sequential(DeformConv(256, 512, kernel_size=3, stride=2, padding=1),\n",
        "                                   norm_layer(512), activation)\n",
        "\n",
        "        if self.deep:\n",
        "            self.down4 = nn.Sequential(DeformConv(512, 512, kernel_size=3, stride=2, padding=1),\n",
        "                                       norm_layer(512), activation)\n",
        "\n",
        "        ### resnet blocks\n",
        "        BN = []\n",
        "        for i in range(n_blocks):\n",
        "            BN += [\n",
        "                ResnetBlock_Adain(512, latent_size=latent_size, padding_type=padding_type, activation=activation)]\n",
        "        self.BottleNeck = nn.Sequential(*BN)\n",
        "\n",
        "        if self.deep:\n",
        "            self.up4 = nn.Sequential(\n",
        "                nn.Upsample(scale_factor=2, mode='bilinear',align_corners=False),\n",
        "                DeformConv(512, 512, kernel_size=3, stride=1, padding=1),\n",
        "                nn.BatchNorm2d(512), activation\n",
        "            )\n",
        "        self.up3 = nn.Sequential(\n",
        "            nn.Upsample(scale_factor=2, mode='bilinear',align_corners=False),\n",
        "            DeformConv(512, 256, kernel_size=3, stride=1, padding=1),\n",
        "            nn.BatchNorm2d(256), activation\n",
        "        )\n",
        "        self.up2 = nn.Sequential(\n",
        "            nn.Upsample(scale_factor=2, mode='bilinear',align_corners=False),\n",
        "            DeformConv(256, 128, kernel_size=3, stride=1, padding=1),\n",
        "            nn.BatchNorm2d(128), activation\n",
        "        )\n",
        "        self.up1 = nn.Sequential(\n",
        "            nn.Upsample(scale_factor=2, mode='bilinear',align_corners=False),\n",
        "            DeformConv(128, 64, kernel_size=3, stride=1, padding=1),\n",
        "            nn.BatchNorm2d(64), activation\n",
        "        )\n",
        "        self.last_layer = nn.Sequential(nn.ReflectionPad2d(3), DeformConv(64, output_nc, kernel_size=7, padding=0))\n",
        "\n",
        "    def forward(self, input, dlatents):\n",
        "        x = input  # 3*224*224\n",
        "        print(x.shape)\n",
        "        skip1 = self.first_layer(x)\n",
        "        print(\"x after first layer\",skip1.shape)\n",
        "        skip2 = self.down1(skip1)\n",
        "        print(\"x after down1\",skip2.shape)\n",
        "        skip3 = self.down2(skip2)\n",
        "        print(\"x after down2\",skip3.shape)\n",
        "        if self.deep:\n",
        "            skip4 = self.down3(skip3)\n",
        "            x = self.down4(skip4)\n",
        "        else:\n",
        "            x = self.down3(skip3)\n",
        "            print(\"x after down3\",x.shape)\n",
        "        bot = []\n",
        "        bot.append(x)\n",
        "        features = []\n",
        "        for i in range(len(self.BottleNeck)):\n",
        "            x = self.BottleNeck[i](x, dlatents)\n",
        "            bot.append(x)\n",
        "        print(\"x after bottleneck\",x.shape)\n",
        "        if self.deep:\n",
        "            x = self.up4(x)\n",
        "            features.append(x)\n",
        "        \n",
        "        x = self.up3(x)\n",
        "        print(\"x after up3\",x.shape)\n",
        "        features.append(x)\n",
        "        x = self.up2(x)\n",
        "        print(\"x after up2\",x.shape)\n",
        "        features.append(x)\n",
        "        x = self.up1(x)\n",
        "        print(\"x after up1\",x.shape)\n",
        "        features.append(x)\n",
        "        x = self.last_layer(x)\n",
        "        print(\"x after last layer\",x.shape)\n",
        "        # x = (x + 1) / 2\n",
        "\n",
        "        # return x, bot, features, dlatents\n",
        "        return x\n"
      ]
    },
    {
      "cell_type": "code",
      "execution_count": null,
      "metadata": {},
      "outputs": [],
      "source": [
        "# G = Generator_Adain_Upsample(input_nc=3, output_nc=3, latent_size=512, n_blocks=9, deep=True)\n",
        "\n",
        "latent_id = torch.randn(batch_size, 512)\n",
        "src_image = torch.randn(batch_size, 256, 56, 56)\n",
        "# down = DeformConvDownSample(512, 3, 64, kernel_size=3, stride=2, padding=1)\n",
        "# down(src_image,latent_id).shape\n",
        "up = DeformConvUpSample(2,512, 256, 128, kernel_size=3, stride=1, padding=1)\n",
        "up(src_image,latent_id).shape\n",
        "# G(src_image, latent_id)\n",
        "# D(src_image,None)[0].shape"
      ]
    }
  ],
  "metadata": {
    "accelerator": "GPU",
    "colab": {
      "collapsed_sections": [],
      "name": "train.ipynb",
      "provenance": []
    },
    "kernelspec": {
      "display_name": "Python 3",
      "name": "python3"
    },
    "language_info": {
      "codemirror_mode": {
        "name": "ipython",
        "version": 3
      },
      "file_extension": ".py",
      "mimetype": "text/x-python",
      "name": "python",
      "nbconvert_exporter": "python",
      "pygments_lexer": "ipython3",
      "version": "3.9.13"
    }
  },
  "nbformat": 4,
  "nbformat_minor": 0
}
