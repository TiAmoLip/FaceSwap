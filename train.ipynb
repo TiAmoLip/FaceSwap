{
  "cells": [
    {
      "cell_type": "markdown",
      "metadata": {
        "id": "fC7QoKePuJWu"
      },
      "source": [
        "#Training Demo\n",
        "This is a simple example for training the SimSwap 224*224 with VGGFace2-224.\n",
        "\n",
        "Code path: https://github.com/neuralchen/SimSwap\n",
        "If you like the SimSwap project, please star it!\n",
        "Paper path: https://arxiv.org/pdf/2106.06340v1.pdf or https://dl.acm.org/doi/10.1145/3394171.3413630"
      ]
    },
    {
      "cell_type": "markdown",
      "metadata": {
        "id": "Z6BtQIgWuoqt"
      },
      "source": [
        "Installation\n",
        "All file changes made by this notebook are temporary. You can try to mount your own google drive to store files if you want."
      ]
    },
    {
      "cell_type": "markdown",
      "metadata": {
        "id": "wdQJ9d8N8Tnf"
      },
      "source": [
        "#Get Scripts"
      ]
    },
    {
      "cell_type": "markdown",
      "metadata": {
        "id": "ATLrrbso8Y-Y"
      },
      "source": [
        "# Install Blocks"
      ]
    },
    {
      "cell_type": "markdown",
      "metadata": {
        "id": "hleVtHIJ_QUK"
      },
      "source": [
        "#Download the Training Dataset\n",
        "We employ the cropped VGGFace2-224 dataset for this toy training demo.\n",
        "\n",
        "You can download the dataset from our google driver https://drive.google.com/file/d/19pWvdEHS-CEG6tW3PdxdtZ5QEymVjImc/view?usp=sharing\n",
        "\n",
        "***Please check the dataset in dir /content/TrainingData***\n",
        "\n",
        "***If dataset already exists in /content/TrainingData, please do not run blow scripts!***\n"
      ]
    },
    {
      "cell_type": "markdown",
      "metadata": {
        "id": "o5SNDWzA8LjJ"
      },
      "source": [
        "#Trainig\n",
        "Batch size must larger than 1!"
      ]
    },
    {
      "cell_type": "code",
      "execution_count": 1,
      "metadata": {
        "id": "XCxHa4oW507s"
      },
      "outputs": [],
      "source": [
        "import numpy as np\n",
        "import torch\n",
        "from torch import nn\n",
        "from models.custom_network import DeformConv\n",
        "from models.fs_networks_fix import ResnetBlock_Adain\n",
        "# from models.fs_networks_fix import Generator_Adain_Upsample\n",
        "batch_size = 4\n",
        "from pg_modules.projected_discriminator import ProjectedDiscriminator\n",
        "D = ProjectedDiscriminator(diffaug=False,interp224=False)"
      ]
    },
    {
      "cell_type": "code",
      "execution_count": 8,
      "metadata": {},
      "outputs": [],
      "source": [
        "class IdDeformConv(nn.Module):\n",
        "    def __init__(self, latent_size, input_channels, output_channels, kernel_size, stride=1, padding=0, bias=False) -> None:\n",
        "        super(IdDeformConv,self).__init__()\n",
        "        # self.latent_size = latent_size\n",
        "        self.dconv = DeformConv(input_channels, output_channels, kernel_size, stride, padding, bias)\n",
        "        self.latent_injection = nn.Linear(latent_size, output_channels)\n",
        "        # self.res = \n",
        "    def forward(self, input, latent):\n",
        "        latent = self.latent_injection(latent)\n",
        "        return self.dconv(input) + latent.view(latent.size(0), latent.size(1), 1, 1)\n",
        "    \n",
        "\n",
        "class DeformConvDownSample(nn.Module):\n",
        "    def __init__(self, latent_size, in_channels, out_channels, kernel_size, stride=1, padding=0, bias=False):\n",
        "        super(DeformConvDownSample, self).__init__()\n",
        "        self.dconv = IdDeformConv(latent_size,in_channels, out_channels, kernel_size, stride, padding, bias)\n",
        "        self.conv = nn.Conv2d(out_channels, out_channels, kernel_size=1, stride=1, padding=0, bias=False)\n",
        "        self.norm = nn.BatchNorm2d(out_channels)\n",
        "        self.relu = nn.LeakyReLU(0.2,inplace=False)\n",
        "\n",
        "    def forward(self, x, latent_id):\n",
        "        x = self.dconv(x, latent_id)\n",
        "        x = self.conv(x)\n",
        "        x = self.norm(x)\n",
        "        x = self.relu(x)\n",
        "        return x\n",
        "class DeformConvUpSample(nn.Module):\n",
        "    def __init__(self, scaleFactor,latent_size, in_channels, out_channels, kernel_size, stride=1, padding=0, bias=False,*args, **kwargs) -> None:\n",
        "        super().__init__(*args, **kwargs)\n",
        "        self.upsample = nn.Upsample(scale_factor=scaleFactor, mode='bilinear',align_corners=False)\n",
        "        self.IdDeformConv = IdDeformConv(latent_size,in_channels, out_channels, kernel_size, stride, padding, bias)\n",
        "        self.conv = nn.Conv2d(out_channels, out_channels, kernel_size=1, stride=1, padding=0, bias=False)\n",
        "        self.norm = nn.BatchNorm2d(out_channels)\n",
        "        self.rl = nn.LeakyReLU(0.2,inplace=False)\n",
        "    def forward(self, x, latent_id):\n",
        "        x = self.upsample(x)\n",
        "        x = self.IdDeformConv(x, latent_id)\n",
        "        x = self.conv(x)\n",
        "        x = self.norm(x)\n",
        "        x = self.rl(x)\n",
        "        return x\n",
        "class IDBlocks(nn.Module):\n",
        "    def __init__(self, *args, **kwargs) -> None:\n",
        "        super().__init__(*args, **kwargs)"
      ]
    },
    {
      "cell_type": "code",
      "execution_count": 7,
      "metadata": {},
      "outputs": [],
      "source": [
        "\n",
        "class Generator_Adain_Upsample(nn.Module):\n",
        "    def __init__(self, input_nc, output_nc, latent_size, n_blocks=6, deep=False,\n",
        "                 norm_layer=nn.BatchNorm2d,\n",
        "                 padding_type='reflect'):\n",
        "        assert (n_blocks >= 0)\n",
        "        super(Generator_Adain_Upsample, self).__init__()\n",
        "\n",
        "        activation = nn.ReLU(True)\n",
        "        \n",
        "        self.deep = deep\n",
        "        \n",
        "        self.first_layer = nn.Sequential(nn.ReflectionPad2d(3), DeformConv(input_nc, 64, kernel_size=7, padding=0),\n",
        "                                         norm_layer(64), activation)\n",
        "        ### downsample\n",
        "        self.down1 = nn.Sequential(DeformConv(64, 128, kernel_size=3, stride=2, padding=1),\n",
        "                                   norm_layer(128), activation)\n",
        "        self.down2 = nn.Sequential(DeformConv(128, 256, kernel_size=3, stride=2, padding=1),\n",
        "                                   norm_layer(256), activation)\n",
        "        self.down3 = nn.Sequential(DeformConv(256, 512, kernel_size=3, stride=2, padding=1),\n",
        "                                   norm_layer(512), activation)\n",
        "                                   \n",
        "                                   \n",
        "#####################################################################\n",
        "# for 512\n",
        "        # self.down = nn.Sequential(DeformConv(512, 1024, kernel_size=3, stride=2, padding=1),\n",
        "        #                                 norm_layer(1024), activation,\n",
        "        # DeformConv(1024,2048, kernel_size=3, stride=2, padding=1),\n",
        "        #                                 norm_layer(2048), activation)\n",
        "\n",
        "\n",
        "#####################################################################\n",
        "        if self.deep:\n",
        "            self.down4 = nn.Sequential(DeformConv(512, 512, kernel_size=3, stride=2, padding=1),\n",
        "                                       norm_layer(512), activation)\n",
        "\n",
        "        ### resnet blocks\n",
        "        BN = []\n",
        "        for i in range(n_blocks):\n",
        "            BN += [\n",
        "                ResnetBlock_Adain(512, latent_size=latent_size, padding_type=padding_type, activation=activation)]\n",
        "        self.BottleNeck = nn.Sequential(*BN)\n",
        "\n",
        "        if self.deep:\n",
        "            self.up4 = nn.Sequential(\n",
        "                nn.Upsample(scale_factor=2, mode='bilinear',align_corners=False),\n",
        "                DeformConv(512, 512, kernel_size=3, stride=1, padding=1),\n",
        "                nn.BatchNorm2d(512), activation\n",
        "            )\n",
        "        self.up3 = nn.Sequential(\n",
        "            nn.Upsample(scale_factor=2, mode='bilinear',align_corners=False),\n",
        "            DeformConv(512, 256, kernel_size=3, stride=1, padding=1),\n",
        "            nn.BatchNorm2d(256), activation\n",
        "        )\n",
        "        self.up2 = nn.Sequential(\n",
        "            nn.Upsample(scale_factor=2, mode='bilinear',align_corners=False),\n",
        "            DeformConv(256, 128, kernel_size=3, stride=1, padding=1),\n",
        "            nn.BatchNorm2d(128), activation\n",
        "        )\n",
        "        self.up1 = nn.Sequential(\n",
        "            nn.Upsample(scale_factor=2, mode='bilinear',align_corners=False),\n",
        "            DeformConv(128, 64, kernel_size=3, stride=1, padding=1),\n",
        "            nn.BatchNorm2d(64), activation\n",
        "        )\n",
        "#####################################################################\n",
        "# for 1024 input\n",
        "\n",
        "\n",
        "#####################################################################\n",
        "\n",
        "\n",
        "        self.last_layer = nn.Sequential(nn.ReflectionPad2d(3), DeformConv(64, output_nc, kernel_size=7, padding=0))\n",
        "\n",
        "    def forward(self, input, dlatents):\n",
        "        x = input  # 3*224*224\n",
        "        print(x.shape)\n",
        "        skip1 = self.first_layer(x)\n",
        "        print(\"x after first layer\",skip1.shape)\n",
        "        skip2 = self.down1(skip1)\n",
        "        print(\"x after down1\",skip2.shape)\n",
        "        skip3 = self.down2(skip2)\n",
        "        print(\"x after down2\",skip3.shape)\n",
        "        if self.deep:\n",
        "            skip4 = self.down3(skip3)\n",
        "            x = self.down4(skip4)\n",
        "        else:\n",
        "            x = self.down3(skip3)\n",
        "            print(\"x after down3\",x.shape)\n",
        "        bot = []\n",
        "        bot.append(x)\n",
        "        features = []\n",
        "        for i in range(len(self.BottleNeck)):\n",
        "            x = self.BottleNeck[i](x, dlatents)\n",
        "            bot.append(x)\n",
        "        print(\"x after bottleneck\",x.shape)\n",
        "        if self.deep:\n",
        "            x = self.up4(x)\n",
        "            features.append(x)\n",
        "        \n",
        "        x = self.up3(x)\n",
        "        print(\"x after up3\",x.shape)\n",
        "        features.append(x)\n",
        "        x = self.up2(x)\n",
        "        print(\"x after up2\",x.shape)\n",
        "        features.append(x)\n",
        "        x = self.up1(x)\n",
        "        print(\"x after up1\",x.shape)\n",
        "        features.append(x)\n",
        "        x = self.last_layer(x)\n",
        "        print(\"x after last layer\",x.shape)\n",
        "        # x = (x + 1) / 2\n",
        "\n",
        "        # return x, bot, features, dlatents\n",
        "        return x\n"
      ]
    },
    {
      "cell_type": "code",
      "execution_count": 11,
      "metadata": {},
      "outputs": [
        {
          "data": {
            "text/plain": [
              "torch.Size([4, 128, 112, 112])"
            ]
          },
          "execution_count": 11,
          "metadata": {},
          "output_type": "execute_result"
        }
      ],
      "source": [
        "# G = Generator_Adain_Upsample(input_nc=3, output_nc=3, latent_size=512, n_blocks=9, deep=True)\n",
        "\n",
        "latent_id = torch.randn(batch_size, 512)\n",
        "src_image = torch.randn(batch_size, 256, 56, 56)\n",
        "# down = DeformConvDownSample(512, 3, 64, kernel_size=3, stride=2, padding=1)\n",
        "# down(src_image,latent_id).shape\n",
        "up = DeformConvUpSample(2,512, 256, 128, kernel_size=3, stride=1, padding=1)\n",
        "up(src_image,latent_id).shape\n",
        "# G(src_image, latent_id)\n",
        "# D(src_image,None)[0].shape"
      ]
    }
  ],
  "metadata": {
    "accelerator": "GPU",
    "colab": {
      "collapsed_sections": [],
      "name": "train.ipynb",
      "provenance": []
    },
    "kernelspec": {
      "display_name": "Python 3",
      "name": "python3"
    },
    "language_info": {
      "codemirror_mode": {
        "name": "ipython",
        "version": 3
      },
      "file_extension": ".py",
      "mimetype": "text/x-python",
      "name": "python",
      "nbconvert_exporter": "python",
      "pygments_lexer": "ipython3",
      "version": "3.9.13"
    }
  },
  "nbformat": 4,
  "nbformat_minor": 0
}
